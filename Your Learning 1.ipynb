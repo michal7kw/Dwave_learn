{
 "cells": [
  {
   "cell_type": "markdown",
   "id": "fourth-voluntary",
   "metadata": {},
   "source": [
    "# Prerequisite"
   ]
  },
  {
   "cell_type": "code",
   "execution_count": 1,
   "id": "miniature-responsibility",
   "metadata": {},
   "outputs": [],
   "source": [
    "import networkx as nx\n",
    "import matplotlib.pyplot as plt \n",
    "from collections import defaultdict\n",
    "from dwave.system import DWaveSampler, EmbeddingComposite\n",
    "import dwave.inspector"
   ]
  },
  {
   "cell_type": "code",
   "execution_count": 2,
   "id": "structured-archives",
   "metadata": {},
   "outputs": [
    {
     "data": {
      "text/html": [
       "\n",
       "<style>\n",
       ".row {\n",
       "display: flex;\n",
       "}\n",
       "\n",
       ".column {\n",
       "flex: 33.33%;\n",
       "padding: 5px;\n",
       "}\n",
       "</style>\n"
      ],
      "text/plain": [
       "<IPython.core.display.HTML object>"
      ]
     },
     "execution_count": 2,
     "metadata": {},
     "output_type": "execute_result"
    }
   ],
   "source": [
    "from IPython.core.display import HTML\n",
    "HTML(\"\"\"\n",
    "<style>\n",
    ".row {\n",
    "display: flex;\n",
    "}\n",
    "\n",
    ".column {\n",
    "flex: 33.33%;\n",
    "padding: 5px;\n",
    "}\n",
    "</style>\n",
    "\"\"\")"
   ]
  },
  {
   "cell_type": "markdown",
   "id": "endless-raleigh",
   "metadata": {},
   "source": [
    "# Teams' paring\n",
    "https://www.youtube.com/watch?v=Q4FE4jou5CA&list=PLPvKnT7dgEstqFp9ZB8Wpqkw1L3JNQuV3"
   ]
  },
  {
   "cell_type": "markdown",
   "id": "federal-depth",
   "metadata": {},
   "source": [
    "## Problem input"
   ]
  },
  {
   "cell_type": "code",
   "execution_count": 3,
   "id": "homeless-clear",
   "metadata": {},
   "outputs": [],
   "source": [
    "G = nx.Graph()\n",
    "G.add_edges_from([(0,4),(0,5),(1,2),(1,6),(2,4),(3,7),(5,6),(6,7)])"
   ]
  },
  {
   "cell_type": "markdown",
   "id": "aging-powder",
   "metadata": {},
   "source": [
    "## Problem definition"
   ]
  },
  {
   "cell_type": "markdown",
   "id": "tutorial-poker",
   "metadata": {},
   "source": [
    "<div>\n",
    "<div style=\"width:image width px; \n",
    "            float: left;\">\n",
    "    <img src=\"./Images/teams paring 1.png\" \n",
    "         width=420 \n",
    "         style=\"padding-bottom:0.5em;\"/>\n",
    "</div>\n",
    "<div style=\"width:image width px; \n",
    "            float: centre;\">\n",
    "    <img src=\"./Images/teams paring 2.png\" \n",
    "         width=350 \n",
    "         style=\"padding-bottom:0.5em;\"/>\n",
    "</div>\n",
    "</div>"
   ]
  },
  {
   "cell_type": "markdown",
   "id": "hybrid-research",
   "metadata": {},
   "source": [
    "## Suplementary code (for Wolfram)"
   ]
  },
  {
   "cell_type": "code",
   "execution_count": 4,
   "id": "least-pledge",
   "metadata": {
    "code_folding": [
     2
    ]
   },
   "outputs": [],
   "source": [
    "listOfEdges = list(G.edges)\n",
    "f = open(\"clipboard.txt\",\"w+\")\n",
    "for i in listOfEdges:\n",
    "    #print(\"{ \" + str(i) + \" }\")\n",
    "    f.write(str(i))\n",
    "f.close() \n",
    "\n",
    "def printMatrix(dict):\n",
    "    np_array = np.zeros((9,9))\n",
    "    np_array[0,0] = np.NaN\n",
    "    for i in range(9):\n",
    "        for j in range(8):\n",
    "            if(i==0):\n",
    "                np_array[i,j+1]= j\n",
    "            else:\n",
    "                if (j==0):\n",
    "                    np_array[i,j]= i-1\n",
    "                else:\n",
    "                    np_array[i,j]=Q[(i-1,j-1)]\n",
    "            \n",
    "    print(np_array)"
   ]
  },
  {
   "cell_type": "markdown",
   "id": "perceived-ending",
   "metadata": {},
   "source": [
    "[Wolfram](./Wolfram.ipynb)"
   ]
  },
  {
   "cell_type": "markdown",
   "id": "upper-transportation",
   "metadata": {},
   "source": [
    "## Math formulation"
   ]
  },
  {
   "cell_type": "code",
   "execution_count": 5,
   "id": "favorite-customer",
   "metadata": {},
   "outputs": [],
   "source": [
    "Q = defaultdict(int)"
   ]
  },
  {
   "cell_type": "code",
   "execution_count": 6,
   "id": "geographic-workshop",
   "metadata": {},
   "outputs": [
    {
     "name": "stdout",
     "output_type": "stream",
     "text": [
      "[[nan  0.  1.  2.  3.  4.  5.  6.  7.]\n",
      " [ 0. -7.  2.  2.  2.  2.  2.  2.  0.]\n",
      " [ 1.  0. -7.  2.  2.  2.  2.  2.  0.]\n",
      " [ 2.  0.  0. -7.  2.  2.  2.  2.  0.]\n",
      " [ 3.  0.  0.  0. -7.  2.  2.  2.  0.]\n",
      " [ 4.  0.  0.  0.  0. -7.  2.  2.  0.]\n",
      " [ 5.  0.  0.  0.  0.  0. -7.  2.  0.]\n",
      " [ 6.  0.  0.  0.  0.  0.  0. -7.  0.]\n",
      " [ 7.  0.  0.  0.  0.  0.  0.  0.  0.]]\n"
     ]
    }
   ],
   "source": [
    "#Constrain\n",
    "lagrange = 1\n",
    "for i in range(8):\n",
    "    Q[(i,i)] += -7*lagrange\n",
    "    for j in range(i+1, 8):\n",
    "        Q[(i,j)] += 2*lagrange\n",
    "\n",
    "printMatrix(Q)"
   ]
  },
  {
   "cell_type": "code",
   "execution_count": 7,
   "id": "opposite-structure",
   "metadata": {},
   "outputs": [
    {
     "name": "stdout",
     "output_type": "stream",
     "text": [
      "[(0, 4), (0, 5), (4, 2), (5, 6), (1, 2), (1, 6), (6, 7), (3, 7)]\n"
     ]
    }
   ],
   "source": [
    "print(G.edges)"
   ]
  },
  {
   "cell_type": "code",
   "execution_count": 8,
   "id": "catholic-compact",
   "metadata": {
    "scrolled": true
   },
   "outputs": [
    {
     "name": "stdout",
     "output_type": "stream",
     "text": [
      "[[nan  0.  1.  2.  3.  4.  5.  6.  7.]\n",
      " [ 0. -5.  2.  2.  2.  0.  0.  2.  0.]\n",
      " [ 1.  0. -5.  0.  2.  2.  2.  0.  0.]\n",
      " [ 2.  0.  0. -5.  2.  2.  2.  2.  0.]\n",
      " [ 3.  0.  0.  0. -6.  2.  2.  2.  0.]\n",
      " [ 4.  0.  0. -2.  0. -5.  2.  2.  0.]\n",
      " [ 5.  0.  0.  0.  0.  0. -5.  0.  0.]\n",
      " [ 6.  0.  0.  0.  0.  0.  0. -4.  0.]\n",
      " [ 7.  0.  0.  0.  0.  0.  0.  0.  0.]]\n"
     ]
    }
   ],
   "source": [
    "#Objective\n",
    "for i, j in G.edges:\n",
    "    Q[(i,i)] += 1\n",
    "    Q[(j,j)] += 1\n",
    "    Q[(i,j)] += -2\n",
    "\n",
    "printMatrix(Q)"
   ]
  },
  {
   "cell_type": "code",
   "execution_count": 9,
   "id": "neutral-beijing",
   "metadata": {},
   "outputs": [
    {
     "name": "stdout",
     "output_type": "stream",
     "text": [
      "[[nan  0.  1.  2.  3.  4.  5.  6.  7.]\n",
      " [ 0. -5.  2.  2.  2.  0.  0.  2.  0.]\n",
      " [ 1.  0. -5.  0.  2.  2.  2.  0.  0.]\n",
      " [ 2.  0.  0. -5.  2.  0.  2.  2.  0.]\n",
      " [ 3.  0.  0.  0. -6.  2.  2.  2.  0.]\n",
      " [ 4.  0.  0.  0.  0. -5.  2.  2.  0.]\n",
      " [ 5.  0.  0.  0.  0.  0. -5.  0.  0.]\n",
      " [ 6.  0.  0.  0.  0.  0.  0. -4.  0.]\n",
      " [ 7.  0.  0.  0.  0.  0.  0.  0.  0.]]\n"
     ]
    }
   ],
   "source": [
    "for i in range(8):\n",
    "    for j in range(0,i+1):\n",
    "        if(Q[(i+1,j)] != 0):\n",
    "            Q[(j,i+1)] += Q[(i+1,j)]\n",
    "            Q[(i+1,j)] = 0\n",
    "printMatrix(Q)"
   ]
  },
  {
   "cell_type": "code",
   "execution_count": 10,
   "id": "choice-wyoming",
   "metadata": {},
   "outputs": [],
   "source": [
    "sampler = EmbeddingComposite(DWaveSampler())\n",
    "sampleset = sampler.sample_qubo(Q, num_reads=100, chain_strength=10)"
   ]
  },
  {
   "cell_type": "code",
   "execution_count": 11,
   "id": "better-headquarters",
   "metadata": {
    "scrolled": true
   },
   "outputs": [
    {
     "name": "stdout",
     "output_type": "stream",
     "text": [
      "    0  1  2  3  4  5  6  7  8 energy num_oc. chain_.\n",
      "0   1  1  1  0  1  0  0  0  0  -14.0       2     0.0\n",
      "1   0  1  0  1  0  0  1  1  0  -14.0       2     0.0\n",
      "2   0  0  0  1  0  1  1  1  0  -14.0       2     0.0\n",
      "3   1  1  1  0  1  0  0  0  1  -14.0       1     0.0\n",
      "4   1  0  1  0  1  1  0  0  1  -14.0       1     0.0\n",
      "5   0  1  1  0  1  0  0  0  0  -13.0       1     0.0\n",
      "6   0  0  0  1  0  0  1  1  0  -13.0       1     0.0\n",
      "7   1  0  0  0  0  1  1  1  0  -13.0       1     0.0\n",
      "8   1  0  1  1  1  0  0  0  0  -13.0       2     0.0\n",
      "9   1  0  0  1  0  1  0  1  0  -13.0       1     0.0\n",
      "10  0  1  1  0  1  0  1  0  0  -13.0       2     0.0\n",
      "11  0  1  1  0  1  0  1  0  1  -13.0       2     0.0\n",
      "12  1  0  1  0  1  0  0  0  0  -13.0       1     0.0\n",
      "13  1  0  1  1  1  0  0  0  1  -13.0       1     0.0\n",
      "14  1  0  0  1  1  0  0  1  0  -13.0       1     0.0\n",
      "15  1  1  1  0  1  1  0  0  0  -13.0       2     0.0\n",
      "16  1  0  0  0  1  1  1  0  0  -13.0       3     0.0\n",
      "17  1  0  0  1  1  1  0  0  0  -13.0       1     0.0\n",
      "18  0  1  1  1  0  0  1  1  0  -13.0       2     0.0\n",
      "19  1  0  1  0  1  0  0  0  1  -13.0       1     0.0\n",
      "20  0  1  1  0  1  0  0  0  1  -13.0       1     0.0\n",
      "21  0  1  1  1  1  0  0  0  1  -13.0       1     0.0\n",
      "22  0  1  0  0  0  1  1  0  1  -12.0       1     0.0\n",
      "23  0  1  0  0  0  0  1  1  1  -12.0       1     0.0\n",
      "24  0  0  1  1  0  0  1  1  0  -12.0       1     0.0\n",
      "25  1  0  1  0  1  1  1  0  1  -12.0       1     0.0\n",
      "26  0  0  0  1  1  0  1  1  0  -12.0       1     0.0\n",
      "27  0  1  1  1  0  0  1  0  0  -12.0       1     0.0\n",
      "28  0  0  1  1  1  0  0  0  0  -12.0       1     0.0\n",
      "29  0  1  0  1  0  1  1  0  0  -12.0       1     0.0\n",
      "30  1  1  1  0  1  0  1  0  1  -12.0       1     0.0\n",
      "31  1  0  1  1  1  1  0  0  1  -12.0       1     0.0\n",
      "32  1  0  0  1  1  0  0  0  0  -12.0       2     0.0\n",
      "33  0  1  1  0  1  1  1  0  0  -12.0       1     0.0\n",
      "34  1  0  1  1  1  1  0  0  0  -12.0       1     0.0\n",
      "35  0  0  1  1  1  0  0  0  1  -12.0       2     0.0\n",
      "36  0  1  1  1  0  0  0  0  1  -12.0       4     0.0\n",
      "37  1  0  0  1  1  0  0  0  1  -12.0       2     0.0\n",
      "38  1  1  1  0  1  0  1  0  0  -12.0       1     0.0\n",
      "39  1  1  1  1  1  0  0  0  1  -12.0       2     0.0\n",
      "40  1  0  0  1  0  1  1  0  1  -12.0       1     0.0\n",
      "41  0  1  1  0  0  1  1  1  1  -12.0       1     0.0\n",
      "42  0  1  0  0  0  1  1  0  0  -12.0       1     0.0\n",
      "43  1  1  0  0  1  0  0  0  0  -11.0       1     0.0\n",
      "44  1  0  1  0  0  1  1  0  1  -11.0       1     0.0\n",
      "45  1  0  0  1  1  0  1  1  1  -11.0       1     0.0\n",
      "46  1  0  0  0  1  0  1  1  0  -11.0       1     0.0\n",
      "47  1  1  0  1  0  0  1  1  1  -11.0       1     0.0\n",
      "48  1  1  0  0  0  0  1  1  1  -11.0       1     0.0\n",
      "49  0  0  0  1  1  1  1  1  0  -11.0       1     0.0\n",
      "50  1  0  1  0  1  0  1  0  0  -11.0       1     0.0\n",
      "51  0  0  1  0  0  1  1  1  0  -11.0       2     0.0\n",
      "52  1  1  0  0  1  0  1  0  1  -11.0       1     0.0\n",
      "53  0  0  1  0  1  0  0  1  1  -11.0       1     0.0\n",
      "54  0  0  1  1  1  0  1  1  0  -11.0       1     0.0\n",
      "55  0  0  1  1  1  1  0  0  1  -11.0       1     0.0\n",
      "56  1  0  0  1  1  1  1  0  1  -11.0       1     0.0\n",
      "57  1  1  1  0  1  1  1  0  0  -11.0       2     0.0\n",
      "58  0  0  1  0  1  1  1  1  1  -10.0       1     0.0\n",
      "59  1  0  0  1  1  0  1  0  0  -10.0       2     0.0\n",
      "60  0  1  1  1  1  1  0  0  0  -10.0       2     0.0\n",
      "61  1  0  0  0  1  0  0  0  1  -10.0       1     0.0\n",
      "62  1  1  0  0  1  0  1  1  0  -10.0       1     0.0\n",
      "63  0  1  0  1  1  0  1  0  1  -10.0       1     0.0\n",
      "64  0  0  1  1  1  0  1  0  1  -10.0       1     0.0\n",
      "65  0  0  0  0  1  0  1  1  1  -10.0       1     0.0\n",
      "66  1  0  0  1  1  0  1  0  1  -10.0       1     0.0\n",
      "67  0  1  0  0  1  0  1  0  1  -10.0       2     0.0\n",
      "68  0  0  0  1  1  1  1  0  0  -10.0       1     0.0\n",
      "69  1  0  1  0  0  1  1  1  0  -10.0       1     0.0\n",
      "70  1  1  0  1  0  0  1  0  0  -10.0       1     0.0\n",
      "71  1  0  1  1  0  1  1  0  0   -9.0       1     0.0\n",
      "72  0  1  0  1  1  1  1  0  1   -9.0       1     0.0\n",
      "73  0  1  0  1  1  1  1  0  0   -9.0       1     0.0\n",
      "74  1  1  0  1  1  0  1  0  1   -9.0       1     0.0\n",
      "75  0  1  0  1  1  1  0  0  0   -9.0       1     0.0\n",
      "76  1  1  0  1  1  0  1  1  1   -8.0       1     0.0\n",
      "77  1  1  1  1  0  1  1  0  0   -8.0       1     0.0\n",
      "['BINARY', 78 rows, 100 samples, 9 variables]\n"
     ]
    }
   ],
   "source": [
    "print(sampleset)"
   ]
  },
  {
   "cell_type": "markdown",
   "id": "collectible-morrison",
   "metadata": {},
   "source": [
    "# How a D-Wave System Solves Problems\n",
    "https://docs.ocean.dwavesys.com/en/stable/overview/solving_problems.html"
   ]
  },
  {
   "cell_type": "markdown",
   "id": "clear-kennedy",
   "metadata": {},
   "source": [
    "<div>\n",
    "<div style=\"float: left;\">\n",
    "    <img src=\"./Images/How_dwave_do.png\" \n",
    "         width=800 \n",
    "         style=\"padding-bottom:0.5em;\"/>\n",
    "</div>"
   ]
  },
  {
   "cell_type": "markdown",
   "id": "rental-multimedia",
   "metadata": {},
   "source": [
    "## The Boolean NOT, AND gates example"
   ]
  },
  {
   "cell_type": "markdown",
   "id": "individual-joseph",
   "metadata": {},
   "source": [
    "https://docs.ocean.dwavesys.com/en/stable/overview/solving_problems.html"
   ]
  },
  {
   "cell_type": "markdown",
   "id": "mounted-georgia",
   "metadata": {},
   "source": [
    "Problem Truth Table for NOT gate"
   ]
  },
  {
   "cell_type": "markdown",
   "id": "confidential-senate",
   "metadata": {},
   "source": [
    "| x_1 | x_2 | NOT(x_1) | BQM Value |\n",
    "|-----|-----|----------|-----------|\n",
    "| 0   | 1   | yes      | 0         |\n",
    "| 1   | 0   | yes      | 0         |   \n",
    "| 0   | 0   | no       | 1         |\n",
    "| 1   | 1   | no       | 1         |"
   ]
  },
  {
   "cell_type": "markdown",
   "id": "labeled-montreal",
   "metadata": {},
   "source": [
    "#### Solving equations to get objective function (by hand)"
   ]
  },
  {
   "cell_type": "markdown",
   "id": "rough-mortality",
   "metadata": {},
   "source": [
    "<div class=\"row\">\n",
    "  <div class=\"column\">\n",
    "    <img src=\"./Images/not_gate.png\" alt=\"NOT gate\" style=\"width:120%\">\n",
    "      <figcaption>Fig.1 NOT gate</figcaption>\n",
    "  </div>\n",
    "  <div class=\"column\">\n",
    "    <img src=\"./Images/and_gate.png\" alt=\"AND gate\" style=\"width:120%\">\n",
    "      <figcaption>Fig.1 AND gate</figcaption>\n",
    "  </div>\n",
    "</div>"
   ]
  },
  {
   "cell_type": "markdown",
   "id": "criminal-palestine",
   "metadata": {},
   "source": [
    "#### Using **dwavebinarycsp** to automaticaly get AND gate representation"
   ]
  },
  {
   "cell_type": "code",
   "execution_count": 12,
   "id": "isolated-ladder",
   "metadata": {},
   "outputs": [
    {
     "data": {
      "text/plain": [
       "BinaryQuadraticModel({x1: -8.849365684682198e-12, x2: -8.843592524954147e-12, y1: 5.99999999998183}, {('x1', 'x2'): 1.9999999999997113, ('x1', 'y1'): -3.999999999995195, ('x2', 'y1'): -3.9999999999952074}, 1.3273382393208522e-11, 'BINARY')"
      ]
     },
     "execution_count": 12,
     "metadata": {},
     "output_type": "execute_result"
    }
   ],
   "source": [
    "import dwavebinarycsp #Library to construct a binary quadratic model from a constraint satisfaction problem with small constraints over binary variables.\n",
    "import dwavebinarycsp.factories.constraint.gates as gates\n",
    "\n",
    "# Implement AND gate\n",
    "csp = dwavebinarycsp.ConstraintSatisfactionProblem(dwavebinarycsp.BINARY)\n",
    "csp.add_constraint(gates.and_gate(['x1', 'x2', 'y1'])) # add an AND gate\n",
    "bqm = dwavebinarycsp.stitch(csp)\n",
    "\n",
    "bqm # x_1 ~ 0; x_2 ~ 0; x_3(i.e. y_1) ~ 6; x_1 x_2 ~ 2; etc.\n",
    "#the same coefficients as you derived above (but multiplied by 2)"
   ]
  },
  {
   "cell_type": "markdown",
   "id": "micro-houston",
   "metadata": {},
   "source": [
    "#### Sampling AND gate"
   ]
  },
  {
   "cell_type": "markdown",
   "id": "amended-peninsula",
   "metadata": {},
   "source": [
    "Used:\n",
    "- dimod.BinaryQuadraticModel() ---> **Encodes a binary quadratic model**; superclass that contains the Ising model and the QUBO\n",
    "- dwave.system.LeapHybridSampler() ---> class for using Leap’s cloud-based hybrid BQM solvers"
   ]
  },
  {
   "cell_type": "code",
   "execution_count": 13,
   "id": "emotional-parallel",
   "metadata": {},
   "outputs": [],
   "source": [
    "import dimod\n",
    "from dwave.system import LeapHybridSampler\n",
    "\n",
    "bqm = dimod.BinaryQuadraticModel({'x1': 0.0, 'x2': 0.0, 'y1': 6.0},\n",
    "                 {('x2', 'x1'): 2.0, ('y1', 'x1'): -4.0, ('y1', 'x2'): -4.0},\n",
    "                 0, 'BINARY')"
   ]
  },
  {
   "cell_type": "code",
   "execution_count": 14,
   "id": "broadband-joining",
   "metadata": {
    "scrolled": true
   },
   "outputs": [
    {
     "name": "stdout",
     "output_type": "stream",
     "text": [
      "  x1 x2 y1 energy num_oc.\n",
      "0  1  1  1    0.0       1\n",
      "['BINARY', 1 rows, 1 samples, 3 variables]\n"
     ]
    }
   ],
   "source": [
    "sampler = LeapHybridSampler()    \n",
    "answer = sampler.sample(bqm)   \n",
    "print(answer)    "
   ]
  },
  {
   "cell_type": "markdown",
   "id": "common-figure",
   "metadata": {},
   "source": [
    "Used:  \n",
    "- dwave.system.**EmbeddingComposite()** ---> Automatically **minor-embeds** a problem into a structured sampler such as a D-Wave system\n",
    "- dwave.system.**DWaveSampler()** ---> class for using the D-Wave system as a sampler for binary quadratic models."
   ]
  },
  {
   "cell_type": "code",
   "execution_count": 41,
   "id": "derived-introduction",
   "metadata": {
    "scrolled": true
   },
   "outputs": [
    {
     "name": "stdout",
     "output_type": "stream",
     "text": [
      "  x1 x2 y1 energy num_oc. chain_.\n",
      "0  0  1  0    0.0       9     0.0\n",
      "1  1  0  0    0.0      11     0.0\n",
      "2  0  0  0    0.0      21     0.0\n",
      "3  1  1  1    0.0       9     0.0\n",
      "['BINARY', 4 rows, 50 samples, 3 variables]\n"
     ]
    }
   ],
   "source": [
    "from dwave.system import DWaveSampler, EmbeddingComposite\n",
    "sampler = EmbeddingComposite(DWaveSampler())\n",
    "\n",
    "Q = {('x1', 'x1'): 0, ('x2', 'x2'): 0, ('y1', 'y1'): 6, ('x2', 'x1'): 2, ('y1', 'x1'): -4, ('y1', 'x2'): -4}\n",
    "response = sampler.sample_qubo(Q, num_reads=50)\n",
    "print(response)    "
   ]
  },
  {
   "cell_type": "markdown",
   "id": "tight-facility",
   "metadata": {},
   "source": [
    "#### Sampling NOT gate"
   ]
  },
  {
   "cell_type": "code",
   "execution_count": 34,
   "id": "increasing-investment",
   "metadata": {},
   "outputs": [
    {
     "name": "stdout",
     "output_type": "stream",
     "text": [
      "   x  z energy num_oc. chain_.\n",
      "0  0  1   -1.0    2595     0.0\n",
      "1  1  0   -1.0    2404     0.0\n",
      "2  0  0    0.0       1     0.0\n",
      "['BINARY', 3 rows, 5000 samples, 2 variables]\n"
     ]
    }
   ],
   "source": [
    "from dwave.system import DWaveSampler, EmbeddingComposite\n",
    "sampler = EmbeddingComposite(DWaveSampler())\n",
    "\n",
    "Q = {('x', 'x'): -1, ('x', 'z'): 2, ('z', 'x'): 0, ('z', 'z'): -1}\n",
    "sampleset = sampler.sample_qubo(Q, num_reads=50)\n",
    "print(sampleset)        "
   ]
  },
  {
   "cell_type": "markdown",
   "id": "tired-office",
   "metadata": {},
   "source": [
    "## Improve the Solutions - The Problem Inspector"
   ]
  },
  {
   "cell_type": "code",
   "execution_count": 42,
   "id": "decent-marathon",
   "metadata": {},
   "outputs": [
    {
     "data": {
      "text/plain": [
       "'http://127.0.0.1:18000/?problemId=16436207-a706-46b0-bb29-45983a552e20'"
      ]
     },
     "execution_count": 42,
     "metadata": {},
     "output_type": "execute_result"
    }
   ],
   "source": [
    "# D-wave Problem Inspector\n",
    "dwave.inspector.show(response)"
   ]
  },
  {
   "cell_type": "markdown",
   "id": "premier-clerk",
   "metadata": {
    "heading_collapsed": true
   },
   "source": [
    "# Map coloring"
   ]
  },
  {
   "cell_type": "markdown",
   "id": "surprising-garlic",
   "metadata": {
    "hidden": true
   },
   "source": [
    "## Coupling Two Regions"
   ]
  },
  {
   "cell_type": "code",
   "execution_count": 12,
   "id": "human-tackle",
   "metadata": {
    "hidden": true
   },
   "outputs": [],
   "source": [
    "import networkx as nx\n",
    "\n",
    "import matplotlib\n",
    "matplotlib.use(\"agg\")   # select backend\n",
    "import matplotlib.pyplot as plt\n",
    "%matplotlib inline"
   ]
  },
  {
   "cell_type": "markdown",
   "id": "israeli-bullet",
   "metadata": {
    "hidden": true
   },
   "source": [
    "Problem input"
   ]
  },
  {
   "cell_type": "code",
   "execution_count": 23,
   "id": "moral-president",
   "metadata": {
    "hidden": true
   },
   "outputs": [
    {
     "name": "stdout",
     "output_type": "stream",
     "text": [
      "Nodes:  ['bc', 'ab', 'sk', 'mb', 'on', 'qc', 'nl', 'nb', 'pe', 'ns', 'yt', 'nt', 'nu'] \n",
      "\n",
      "Edges:  [('bc', 'ab'), ('bc', 'nt'), ('bc', 'yt'), ('ab', 'sk'), ('ab', 'nt'), ('sk', 'mb'), ('sk', 'nt'), ('mb', 'on'), ('mb', 'nu'), ('on', 'qc'), ('qc', 'nb'), ('qc', 'nl'), ('nb', 'ns'), ('yt', 'nt'), ('nt', 'nu')] \n",
      "\n"
     ]
    },
    {
     "data": {
      "image/png": "[encoded data removed]",
      "text/plain": [
       "<Figure size 432x288 with 1 Axes>"
      ]
     },
     "metadata": {},
     "output_type": "display_data"
    },
    {
     "name": "stdout",
     "output_type": "stream",
     "text": [
      "['bc', 'ab', 'nt', 'yt', 'sk', 'mb', 'on', 'nu', 'qc', 'nb', 'nl', 'ns']\n"
     ]
    }
   ],
   "source": [
    "class Province:\n",
    "    def __init__(self, name):\n",
    "        self.name = name\n",
    "        self.red = name + \"_r\"\n",
    "        self.green = name + \"_g\"\n",
    "        self.blue = name + \"_b\"\n",
    "        self.yellow = name + \"_y\"\n",
    "\n",
    "# Set up provinces\n",
    "bc = Province(\"bc\")   # British Columbia\n",
    "ab = Province(\"ab\")   # Alberta\n",
    "sk = Province(\"sk\")   # Saskatchewan\n",
    "mb = Province(\"mb\")   # Manitoba\n",
    "on = Province(\"on\")   # Ontario\n",
    "qc = Province(\"qc\")   # Quebec\n",
    "nl = Province(\"nl\")   # Newfoundland and Labrador\n",
    "nb = Province(\"nb\")   # New Brunswick\n",
    "pe = Province(\"pe\")   # Prince Edward Island\n",
    "ns = Province(\"ns\")   # Nova Scotia\n",
    "yt = Province(\"yt\")   # Yukon\n",
    "nt = Province(\"nt\")   # Northwest Territories\n",
    "nu = Province(\"nu\")   # Nunavut\n",
    "\n",
    "provinces = [bc, ab, sk, mb, on, qc, nl, nb, pe, ns, yt, nt, nu]\n",
    "\n",
    "# Set up province neighbours (i.e. shares a border)\n",
    "neighbours = [(bc, ab),\n",
    "              (bc, nt),\n",
    "              (bc, yt),\n",
    "              (ab, sk),\n",
    "              (ab, nt),\n",
    "              (sk, mb),\n",
    "              (sk, nt),\n",
    "              (mb, on),\n",
    "              (mb, nu),\n",
    "              (on, qc),\n",
    "              (qc, nb),\n",
    "              (qc, nl),\n",
    "              (nb, ns),\n",
    "              (yt, nt),\n",
    "              (nt, nu)]\n",
    "\n",
    "# Hard code node positions to be reminiscent of the map of Canada\n",
    "node_positions = {\"bc\": (0, 1),\n",
    "                  \"ab\": (2, 1),\n",
    "                  \"sk\": (4, 1),\n",
    "                  \"mb\": (6, 1),\n",
    "                  \"on\": (8, 1),\n",
    "                  \"qc\": (10, 1),\n",
    "                  \"nb\": (10, 0),\n",
    "                  \"ns\": (12, 0),\n",
    "                  \"pe\": (12, 1),\n",
    "                  \"nl\": (12, 2),\n",
    "                  \"yt\": (0, 3),\n",
    "                  \"nt\": (2, 3),\n",
    "                  \"nu\": (6, 3)}\n",
    "\n",
    "nodes = [u.name for u in provinces]\n",
    "print(\"Nodes: \", nodes, \"\\n\")\n",
    "edges = [(u.name, v.name) for u, v in neighbours]\n",
    "print(\"Edges: \", edges, \"\\n\")\n",
    "\n",
    "G = nx.Graph(edges)\n",
    "nx.draw_networkx(G)\n",
    "plt.show()\n",
    "print(G.nodes)"
   ]
  },
  {
   "cell_type": "markdown",
   "id": "moderate-dryer",
   "metadata": {
    "hidden": true
   },
   "source": [
    "add to Graph lonely nodes "
   ]
  },
  {
   "cell_type": "code",
   "execution_count": 27,
   "id": "stunning-booth",
   "metadata": {
    "hidden": true,
    "scrolled": true
   },
   "outputs": [
    {
     "name": "stdout",
     "output_type": "stream",
     "text": [
      "{'qc', 'nu', 'ab', 'nl', 'on', 'bc', 'pe', 'ns', 'yt', 'nt', 'sk', 'mb', 'nb'}  \n",
      "\n",
      "{'qc', 'nu', 'ab', 'nl', 'on', 'bc', 'ns', 'yt', 'nt', 'sk', 'mb', 'nb'}  \n",
      "\n",
      "{'pe'}\n"
     ]
    },
    {
     "data": {
      "image/png": "[encoded data removed]",
      "text/plain": [
       "<Figure size 432x288 with 1 Axes>"
      ]
     },
     "metadata": {},
     "output_type": "display_data"
    }
   ],
   "source": [
    "lone_nodes = set(nodes) - set(G.nodes)  # nodes without edges\n",
    "print(set(nodes), \" \\n\")\n",
    "print(set(G.nodes), \" \\n\")\n",
    "print(lone_nodes)\n",
    "for lone_node in lone_nodes:\n",
    "    G.add_node(lone_node)\n",
    "\n",
    "nx.draw_networkx(G)\n",
    "plt.show()"
   ]
  },
  {
   "cell_type": "markdown",
   "id": "innovative-audit",
   "metadata": {
    "hidden": true
   },
   "source": [
    "get regions' colors (used precomputed \"best_solution\")"
   ]
  },
  {
   "cell_type": "code",
   "execution_count": 33,
   "id": "varied-robertson",
   "metadata": {
    "hidden": true
   },
   "outputs": [
    {
     "name": "stdout",
     "output_type": "stream",
     "text": [
      "bc  -->  {'color': 'r'}\n",
      "ab  -->  {'color': 'g'}\n",
      "nt  -->  {'color': 'y'}\n",
      "yt  -->  {'color': 'g'}\n",
      "sk  -->  {'color': 'b'}\n",
      "mb  -->  {'color': 'y'}\n",
      "on  -->  {'color': 'r'}\n",
      "nu  -->  {'color': 'b'}\n",
      "qc  -->  {'color': 'y'}\n",
      "nb  -->  {'color': 'b'}\n",
      "nl  -->  {'color': 'b'}\n",
      "ns  -->  {'color': 'r'}\n",
      "pe  -->  {'color': 'y'}\n"
     ]
    }
   ],
   "source": [
    "best_solution = {'ab_b': 0, 'ab_g': 1, 'ab_r': 0, 'ab_y': 0, 'bc_b': 0, 'bc_g': 0, 'bc_r': 1, 'bc_y': 0, 'mb_b': 0, 'mb_g': 0, 'mb_r': 0, 'mb_y': 1, 'nb_b': 1, 'nb_g': 0, 'nb_r': 0, 'nb_y': 0, 'nl_b': 1, 'nl_g': 0, 'nl_r': 0, 'nl_y': 0, 'ns_b': 0, 'ns_g': 0, 'ns_r': 1, 'ns_y': 0, 'nt_b': 0, 'nt_g': 0, 'nt_r': 0, 'nt_y': 1, 'nu_b': 1, 'nu_g': 0, 'nu_r': 0, 'nu_y': 0, 'on_b': 0, 'on_g': 0, 'on_r': 1, 'on_y': 0, 'pe_b': 0, 'pe_g': 0, 'pe_r': 0, 'pe_y': 1, 'qc_b': 0, 'qc_g': 0, 'qc_r': 0, 'qc_y': 1, 'sk_b': 1, 'sk_g': 0, 'sk_r': 0, 'sk_y': 0, 'yt_b': 0, 'yt_g': 1, 'yt_r': 0, 'yt_y': 0}\n",
    "\n",
    "# Grab the colors selected by sample\n",
    "color_labels = [k for k, v in best_solution.items() if v == 1]\n",
    "\n",
    "# Get color order to match that of the graph nodes\n",
    "for label in color_labels:\n",
    "    name, color = label.split(\"_\")\n",
    "    G.nodes[name][\"color\"] = color\n",
    "    \n",
    "for name in G.nodes:\n",
    "    print(name, \" --> \", G.nodes[name])"
   ]
  },
  {
   "cell_type": "code",
   "execution_count": 35,
   "id": "supposed-navigator",
   "metadata": {
    "hidden": true
   },
   "outputs": [
    {
     "name": "stdout",
     "output_type": "stream",
     "text": [
      "['r', 'g', 'y', 'g', 'b', 'y', 'r', 'b', 'y', 'b', 'b', 'r', 'y']\n"
     ]
    }
   ],
   "source": [
    "color_map = [color for name, color in G.nodes(data=\"color\")]\n",
    "print(color_map)"
   ]
  },
  {
   "cell_type": "code",
   "execution_count": 36,
   "id": "electrical-standard",
   "metadata": {
    "hidden": true
   },
   "outputs": [
    {
     "name": "stdout",
     "output_type": "stream",
     "text": [
      "The graph is saved in 'graph.png'.\n"
     ]
    },
    {
     "data": {
      "image/png": "[encoded data removed]",
      "text/plain": [
       "<Figure size 432x288 with 1 Axes>"
      ]
     },
     "metadata": {},
     "output_type": "display_data"
    }
   ],
   "source": [
    "# Draw graph\n",
    "nx.draw_networkx(G, pos=node_positions, with_labels=True,\n",
    "                 node_color=color_map, font_color=\"w\", node_size=400)\n",
    "\n",
    "# Save graph\n",
    "filename = \"graph.png\"\n",
    "plt.savefig(filename)\n",
    "print(\"The graph is saved in '{}'.\".format(filename))\n"
   ]
  },
  {
   "cell_type": "markdown",
   "id": "knowing-vehicle",
   "metadata": {},
   "source": [
    "# Manually Minor-Embedded Problem"
   ]
  },
  {
   "cell_type": "code",
   "execution_count": 37,
   "id": "utility-joyce",
   "metadata": {},
   "outputs": [],
   "source": [
    "from dwave.system import DWaveSampler\n",
    "sampler_manual = DWaveSampler(solver={'topology__type': 'chimera'})"
   ]
  },
  {
   "cell_type": "code",
   "execution_count": null,
   "id": "improved-southeast",
   "metadata": {},
   "outputs": [],
   "source": []
  }
 ],
 "metadata": {
  "kernelspec": {
   "display_name": "Python 3",
   "language": "python",
   "name": "python3"
  },
  "language_info": {
   "codemirror_mode": {
    "name": "ipython",
    "version": 3
   },
   "file_extension": ".py",
   "mimetype": "text/x-python",
   "name": "python",
   "nbconvert_exporter": "python",
   "pygments_lexer": "ipython3",
   "version": "3.9.2"
  },
  "toc": {
   "base_numbering": 1,
   "nav_menu": {},
   "number_sections": true,
   "sideBar": true,
   "skip_h1_title": false,
   "title_cell": "Table of Contents",
   "title_sidebar": "Contents",
   "toc_cell": false,
   "toc_position": {},
   "toc_section_display": true,
   "toc_window_display": true
  },
  "varInspector": {
   "cols": {
    "lenName": 16,
    "lenType": 16,
    "lenVar": 40
   },
   "kernels_config": {
    "python": {
     "delete_cmd_postfix": "",
     "delete_cmd_prefix": "del ",
     "library": "var_list.py",
     "varRefreshCmd": "print(var_dic_list())"
    },
    "r": {
     "delete_cmd_postfix": ") ",
     "delete_cmd_prefix": "rm(",
     "library": "var_list.r",
     "varRefreshCmd": "cat(var_dic_list()) "
    }
   },
   "types_to_exclude": [
    "module",
    "function",
    "builtin_function_or_method",
    "instance",
    "_Feature"
   ],
   "window_display": false
  }
 },
 "nbformat": 4,
 "nbformat_minor": 5
}
